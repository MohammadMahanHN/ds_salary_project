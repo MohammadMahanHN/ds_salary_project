{
 "cells": [
  {
   "cell_type": "code",
   "execution_count": 1,
   "id": "initial_id",
   "metadata": {
    "collapsed": true,
    "ExecuteTime": {
     "end_time": "2024-02-07T12:28:42.261353Z",
     "start_time": "2024-02-07T12:28:37.035047800Z"
    }
   },
   "outputs": [],
   "source": [
    "import pandas as pd"
   ]
  },
  {
   "cell_type": "code",
   "outputs": [
    {
     "data": {
      "text/plain": "                                             Job Title       Salary Estimate  \\\n0               Consultant, Data Science and Analytics    USD 81K - USD 133K   \n1                          Sustainability Data Analyst     USD 80K - USD 85K   \n2    Data Annotation - Safety tasks / Content Moder...    USD 44K - USD 74K    \n3    Solaria Labs Data Science Co-op (July - Decemb...     USD 33K - USD 83K   \n4                   Data Scientist (Multiple Openings)   USD 120K - USD 139K   \n..                                                 ...                   ...   \n749                                Senior Data Analyst  USD 111K - USD 147K    \n750  2024 Summer Associate SumRidge Data Engineer I...   USD 79K - USD 119K    \n751                                     Data Scientist   USD 126K - USD 140K   \n752                                       Data Analyst    USD 63K - USD 96K    \n753                           Mid-Level Data Scientist   USD 66K - USD 105K    \n\n     Rating                   Company Name              Location  \\\n0       3.8                     TransUnion          New York, NY   \n1       NaN                        Worldly                Remote   \n2       4.5                         Cohere         Nashville, TN   \n3       3.7                 Liberty Mutual                Remote   \n4       4.2              Johnson & Johnson           Raritan, NJ   \n..      ...                            ...                   ...   \n749     5.0                     Hypersonix          San Jose, CA   \n750     4.1  Raymond James Financial, Inc.       Jersey City, NJ   \n751     4.1                      Fabletics        El Segundo, CA   \n752     3.5            Westfield Insurance  Westfield Center, OH   \n753     3.6         Illumination Works LLC        Cincinnati, OH   \n\n                       Size Founded  Type of ownership  \\\n0          10000+ Employees    1968   Company - Public   \n1       51 to 200 Employees    2019  Company - Private   \n2         1 to 50 Employees      --  Company - Private   \n3          10000+ Employees    1912  Company - Private   \n4          10000+ Employees    1887   Company - Public   \n..                      ...     ...                ...   \n749       1 to 50 Employees    2019  Company - Private   \n750        10000+ Employees    1962   Company - Public   \n751                 Unknown    2013  Company - Private   \n752  1001 to 5000 Employees    1848  Company - Private   \n753     51 to 200 Employees    2006           Contract   \n\n                                    Industry                          Sector  \\\n0                        Business Consulting         Management & Consulting   \n1    Enterprise Software & Network Solutions          Information Technology   \n2             Advertising & Public Relations           Media & Communication   \n3                         Insurance Carriers                       Insurance   \n4                  Biotech & Pharmaceuticals  Pharmaceutical & Biotechnology   \n..                                       ...                             ...   \n749                      Aerospace & Defense             Aerospace & Defense   \n750            Investment & Asset Management              Financial Services   \n751                  Internet & Web Services          Information Technology   \n752                       Insurance Carriers                       Insurance   \n753  Information Technology Support Services          Information Technology   \n\n                      Revenue  \n0      $1 to $5 billion (USD)  \n1    Unknown / Non-Applicable  \n2    Unknown / Non-Applicable  \n3          $10+ billion (USD)  \n4          $10+ billion (USD)  \n..                        ...  \n749  Unknown / Non-Applicable  \n750   $5 to $10 billion (USD)  \n751  Unknown / Non-Applicable  \n752  Unknown / Non-Applicable  \n753  Unknown / Non-Applicable  \n\n[754 rows x 11 columns]",
      "text/html": "<div>\n<style scoped>\n    .dataframe tbody tr th:only-of-type {\n        vertical-align: middle;\n    }\n\n    .dataframe tbody tr th {\n        vertical-align: top;\n    }\n\n    .dataframe thead th {\n        text-align: right;\n    }\n</style>\n<table border=\"1\" class=\"dataframe\">\n  <thead>\n    <tr style=\"text-align: right;\">\n      <th></th>\n      <th>Job Title</th>\n      <th>Salary Estimate</th>\n      <th>Rating</th>\n      <th>Company Name</th>\n      <th>Location</th>\n      <th>Size</th>\n      <th>Founded</th>\n      <th>Type of ownership</th>\n      <th>Industry</th>\n      <th>Sector</th>\n      <th>Revenue</th>\n    </tr>\n  </thead>\n  <tbody>\n    <tr>\n      <th>0</th>\n      <td>Consultant, Data Science and Analytics</td>\n      <td>USD 81K - USD 133K</td>\n      <td>3.8</td>\n      <td>TransUnion</td>\n      <td>New York, NY</td>\n      <td>10000+ Employees</td>\n      <td>1968</td>\n      <td>Company - Public</td>\n      <td>Business Consulting</td>\n      <td>Management &amp; Consulting</td>\n      <td>$1 to $5 billion (USD)</td>\n    </tr>\n    <tr>\n      <th>1</th>\n      <td>Sustainability Data Analyst</td>\n      <td>USD 80K - USD 85K</td>\n      <td>NaN</td>\n      <td>Worldly</td>\n      <td>Remote</td>\n      <td>51 to 200 Employees</td>\n      <td>2019</td>\n      <td>Company - Private</td>\n      <td>Enterprise Software &amp; Network Solutions</td>\n      <td>Information Technology</td>\n      <td>Unknown / Non-Applicable</td>\n    </tr>\n    <tr>\n      <th>2</th>\n      <td>Data Annotation - Safety tasks / Content Moder...</td>\n      <td>USD 44K - USD 74K</td>\n      <td>4.5</td>\n      <td>Cohere</td>\n      <td>Nashville, TN</td>\n      <td>1 to 50 Employees</td>\n      <td>--</td>\n      <td>Company - Private</td>\n      <td>Advertising &amp; Public Relations</td>\n      <td>Media &amp; Communication</td>\n      <td>Unknown / Non-Applicable</td>\n    </tr>\n    <tr>\n      <th>3</th>\n      <td>Solaria Labs Data Science Co-op (July - Decemb...</td>\n      <td>USD 33K - USD 83K</td>\n      <td>3.7</td>\n      <td>Liberty Mutual</td>\n      <td>Remote</td>\n      <td>10000+ Employees</td>\n      <td>1912</td>\n      <td>Company - Private</td>\n      <td>Insurance Carriers</td>\n      <td>Insurance</td>\n      <td>$10+ billion (USD)</td>\n    </tr>\n    <tr>\n      <th>4</th>\n      <td>Data Scientist (Multiple Openings)</td>\n      <td>USD 120K - USD 139K</td>\n      <td>4.2</td>\n      <td>Johnson &amp; Johnson</td>\n      <td>Raritan, NJ</td>\n      <td>10000+ Employees</td>\n      <td>1887</td>\n      <td>Company - Public</td>\n      <td>Biotech &amp; Pharmaceuticals</td>\n      <td>Pharmaceutical &amp; Biotechnology</td>\n      <td>$10+ billion (USD)</td>\n    </tr>\n    <tr>\n      <th>...</th>\n      <td>...</td>\n      <td>...</td>\n      <td>...</td>\n      <td>...</td>\n      <td>...</td>\n      <td>...</td>\n      <td>...</td>\n      <td>...</td>\n      <td>...</td>\n      <td>...</td>\n      <td>...</td>\n    </tr>\n    <tr>\n      <th>749</th>\n      <td>Senior Data Analyst</td>\n      <td>USD 111K - USD 147K</td>\n      <td>5.0</td>\n      <td>Hypersonix</td>\n      <td>San Jose, CA</td>\n      <td>1 to 50 Employees</td>\n      <td>2019</td>\n      <td>Company - Private</td>\n      <td>Aerospace &amp; Defense</td>\n      <td>Aerospace &amp; Defense</td>\n      <td>Unknown / Non-Applicable</td>\n    </tr>\n    <tr>\n      <th>750</th>\n      <td>2024 Summer Associate SumRidge Data Engineer I...</td>\n      <td>USD 79K - USD 119K</td>\n      <td>4.1</td>\n      <td>Raymond James Financial, Inc.</td>\n      <td>Jersey City, NJ</td>\n      <td>10000+ Employees</td>\n      <td>1962</td>\n      <td>Company - Public</td>\n      <td>Investment &amp; Asset Management</td>\n      <td>Financial Services</td>\n      <td>$5 to $10 billion (USD)</td>\n    </tr>\n    <tr>\n      <th>751</th>\n      <td>Data Scientist</td>\n      <td>USD 126K - USD 140K</td>\n      <td>4.1</td>\n      <td>Fabletics</td>\n      <td>El Segundo, CA</td>\n      <td>Unknown</td>\n      <td>2013</td>\n      <td>Company - Private</td>\n      <td>Internet &amp; Web Services</td>\n      <td>Information Technology</td>\n      <td>Unknown / Non-Applicable</td>\n    </tr>\n    <tr>\n      <th>752</th>\n      <td>Data Analyst</td>\n      <td>USD 63K - USD 96K</td>\n      <td>3.5</td>\n      <td>Westfield Insurance</td>\n      <td>Westfield Center, OH</td>\n      <td>1001 to 5000 Employees</td>\n      <td>1848</td>\n      <td>Company - Private</td>\n      <td>Insurance Carriers</td>\n      <td>Insurance</td>\n      <td>Unknown / Non-Applicable</td>\n    </tr>\n    <tr>\n      <th>753</th>\n      <td>Mid-Level Data Scientist</td>\n      <td>USD 66K - USD 105K</td>\n      <td>3.6</td>\n      <td>Illumination Works LLC</td>\n      <td>Cincinnati, OH</td>\n      <td>51 to 200 Employees</td>\n      <td>2006</td>\n      <td>Contract</td>\n      <td>Information Technology Support Services</td>\n      <td>Information Technology</td>\n      <td>Unknown / Non-Applicable</td>\n    </tr>\n  </tbody>\n</table>\n<p>754 rows × 11 columns</p>\n</div>"
     },
     "execution_count": 28,
     "metadata": {},
     "output_type": "execute_result"
    }
   ],
   "source": [
    "df = pd.read_csv('glassdoor-datascience.csv')\n",
    "df"
   ],
   "metadata": {
    "collapsed": false,
    "ExecuteTime": {
     "end_time": "2024-02-07T13:04:42.893432Z",
     "start_time": "2024-02-07T13:04:42.839176400Z"
    }
   },
   "id": "68e5c9af7ad8ce7a",
   "execution_count": 28
  },
  {
   "cell_type": "code",
   "outputs": [
    {
     "data": {
      "text/plain": "                                             Job Title       Salary Estimate  \\\n0               Consultant, Data Science and Analytics    USD 81K - USD 133K   \n2    Data Annotation - Safety tasks / Content Moder...    USD 44K - USD 74K    \n3    Solaria Labs Data Science Co-op (July - Decemb...     USD 33K - USD 83K   \n4                   Data Scientist (Multiple Openings)   USD 120K - USD 139K   \n5     CAMPUS: I&A Data Science Summer Associate (2024)    USD 40.00 Per Hour   \n..                                                 ...                   ...   \n749                                Senior Data Analyst  USD 111K - USD 147K    \n750  2024 Summer Associate SumRidge Data Engineer I...   USD 79K - USD 119K    \n751                                     Data Scientist   USD 126K - USD 140K   \n752                                       Data Analyst    USD 63K - USD 96K    \n753                           Mid-Level Data Scientist   USD 66K - USD 105K    \n\n     Rating                   Company Name              Location  \\\n0       3.8                     TransUnion          New York, NY   \n2       4.5                         Cohere         Nashville, TN   \n3       3.7                 Liberty Mutual                Remote   \n4       4.2              Johnson & Johnson           Raritan, NJ   \n5       4.2        Capital Group Companies       Los Angeles, CA   \n..      ...                            ...                   ...   \n749     5.0                     Hypersonix          San Jose, CA   \n750     4.1  Raymond James Financial, Inc.       Jersey City, NJ   \n751     4.1                      Fabletics        El Segundo, CA   \n752     3.5            Westfield Insurance  Westfield Center, OH   \n753     3.6         Illumination Works LLC        Cincinnati, OH   \n\n                        Size Founded  Type of ownership  \\\n0           10000+ Employees    1968   Company - Public   \n2          1 to 50 Employees      --  Company - Private   \n3           10000+ Employees    1912  Company - Private   \n4           10000+ Employees    1887   Company - Public   \n5    5001 to 10000 Employees    1931  Company - Private   \n..                       ...     ...                ...   \n749        1 to 50 Employees    2019  Company - Private   \n750         10000+ Employees    1962   Company - Public   \n751                  Unknown    2013  Company - Private   \n752   1001 to 5000 Employees    1848  Company - Private   \n753      51 to 200 Employees    2006           Contract   \n\n                                    Industry                          Sector  \\\n0                        Business Consulting         Management & Consulting   \n2             Advertising & Public Relations           Media & Communication   \n3                         Insurance Carriers                       Insurance   \n4                  Biotech & Pharmaceuticals  Pharmaceutical & Biotechnology   \n5              Investment & Asset Management              Financial Services   \n..                                       ...                             ...   \n749                      Aerospace & Defense             Aerospace & Defense   \n750            Investment & Asset Management              Financial Services   \n751                  Internet & Web Services          Information Technology   \n752                       Insurance Carriers                       Insurance   \n753  Information Technology Support Services          Information Technology   \n\n                      Revenue  \n0      $1 to $5 billion (USD)  \n2    Unknown / Non-Applicable  \n3          $10+ billion (USD)  \n4          $10+ billion (USD)  \n5      $1 to $5 billion (USD)  \n..                        ...  \n749  Unknown / Non-Applicable  \n750   $5 to $10 billion (USD)  \n751  Unknown / Non-Applicable  \n752  Unknown / Non-Applicable  \n753  Unknown / Non-Applicable  \n\n[594 rows x 11 columns]",
      "text/html": "<div>\n<style scoped>\n    .dataframe tbody tr th:only-of-type {\n        vertical-align: middle;\n    }\n\n    .dataframe tbody tr th {\n        vertical-align: top;\n    }\n\n    .dataframe thead th {\n        text-align: right;\n    }\n</style>\n<table border=\"1\" class=\"dataframe\">\n  <thead>\n    <tr style=\"text-align: right;\">\n      <th></th>\n      <th>Job Title</th>\n      <th>Salary Estimate</th>\n      <th>Rating</th>\n      <th>Company Name</th>\n      <th>Location</th>\n      <th>Size</th>\n      <th>Founded</th>\n      <th>Type of ownership</th>\n      <th>Industry</th>\n      <th>Sector</th>\n      <th>Revenue</th>\n    </tr>\n  </thead>\n  <tbody>\n    <tr>\n      <th>0</th>\n      <td>Consultant, Data Science and Analytics</td>\n      <td>USD 81K - USD 133K</td>\n      <td>3.8</td>\n      <td>TransUnion</td>\n      <td>New York, NY</td>\n      <td>10000+ Employees</td>\n      <td>1968</td>\n      <td>Company - Public</td>\n      <td>Business Consulting</td>\n      <td>Management &amp; Consulting</td>\n      <td>$1 to $5 billion (USD)</td>\n    </tr>\n    <tr>\n      <th>2</th>\n      <td>Data Annotation - Safety tasks / Content Moder...</td>\n      <td>USD 44K - USD 74K</td>\n      <td>4.5</td>\n      <td>Cohere</td>\n      <td>Nashville, TN</td>\n      <td>1 to 50 Employees</td>\n      <td>--</td>\n      <td>Company - Private</td>\n      <td>Advertising &amp; Public Relations</td>\n      <td>Media &amp; Communication</td>\n      <td>Unknown / Non-Applicable</td>\n    </tr>\n    <tr>\n      <th>3</th>\n      <td>Solaria Labs Data Science Co-op (July - Decemb...</td>\n      <td>USD 33K - USD 83K</td>\n      <td>3.7</td>\n      <td>Liberty Mutual</td>\n      <td>Remote</td>\n      <td>10000+ Employees</td>\n      <td>1912</td>\n      <td>Company - Private</td>\n      <td>Insurance Carriers</td>\n      <td>Insurance</td>\n      <td>$10+ billion (USD)</td>\n    </tr>\n    <tr>\n      <th>4</th>\n      <td>Data Scientist (Multiple Openings)</td>\n      <td>USD 120K - USD 139K</td>\n      <td>4.2</td>\n      <td>Johnson &amp; Johnson</td>\n      <td>Raritan, NJ</td>\n      <td>10000+ Employees</td>\n      <td>1887</td>\n      <td>Company - Public</td>\n      <td>Biotech &amp; Pharmaceuticals</td>\n      <td>Pharmaceutical &amp; Biotechnology</td>\n      <td>$10+ billion (USD)</td>\n    </tr>\n    <tr>\n      <th>5</th>\n      <td>CAMPUS: I&amp;A Data Science Summer Associate (2024)</td>\n      <td>USD 40.00 Per Hour</td>\n      <td>4.2</td>\n      <td>Capital Group Companies</td>\n      <td>Los Angeles, CA</td>\n      <td>5001 to 10000 Employees</td>\n      <td>1931</td>\n      <td>Company - Private</td>\n      <td>Investment &amp; Asset Management</td>\n      <td>Financial Services</td>\n      <td>$1 to $5 billion (USD)</td>\n    </tr>\n    <tr>\n      <th>...</th>\n      <td>...</td>\n      <td>...</td>\n      <td>...</td>\n      <td>...</td>\n      <td>...</td>\n      <td>...</td>\n      <td>...</td>\n      <td>...</td>\n      <td>...</td>\n      <td>...</td>\n      <td>...</td>\n    </tr>\n    <tr>\n      <th>749</th>\n      <td>Senior Data Analyst</td>\n      <td>USD 111K - USD 147K</td>\n      <td>5.0</td>\n      <td>Hypersonix</td>\n      <td>San Jose, CA</td>\n      <td>1 to 50 Employees</td>\n      <td>2019</td>\n      <td>Company - Private</td>\n      <td>Aerospace &amp; Defense</td>\n      <td>Aerospace &amp; Defense</td>\n      <td>Unknown / Non-Applicable</td>\n    </tr>\n    <tr>\n      <th>750</th>\n      <td>2024 Summer Associate SumRidge Data Engineer I...</td>\n      <td>USD 79K - USD 119K</td>\n      <td>4.1</td>\n      <td>Raymond James Financial, Inc.</td>\n      <td>Jersey City, NJ</td>\n      <td>10000+ Employees</td>\n      <td>1962</td>\n      <td>Company - Public</td>\n      <td>Investment &amp; Asset Management</td>\n      <td>Financial Services</td>\n      <td>$5 to $10 billion (USD)</td>\n    </tr>\n    <tr>\n      <th>751</th>\n      <td>Data Scientist</td>\n      <td>USD 126K - USD 140K</td>\n      <td>4.1</td>\n      <td>Fabletics</td>\n      <td>El Segundo, CA</td>\n      <td>Unknown</td>\n      <td>2013</td>\n      <td>Company - Private</td>\n      <td>Internet &amp; Web Services</td>\n      <td>Information Technology</td>\n      <td>Unknown / Non-Applicable</td>\n    </tr>\n    <tr>\n      <th>752</th>\n      <td>Data Analyst</td>\n      <td>USD 63K - USD 96K</td>\n      <td>3.5</td>\n      <td>Westfield Insurance</td>\n      <td>Westfield Center, OH</td>\n      <td>1001 to 5000 Employees</td>\n      <td>1848</td>\n      <td>Company - Private</td>\n      <td>Insurance Carriers</td>\n      <td>Insurance</td>\n      <td>Unknown / Non-Applicable</td>\n    </tr>\n    <tr>\n      <th>753</th>\n      <td>Mid-Level Data Scientist</td>\n      <td>USD 66K - USD 105K</td>\n      <td>3.6</td>\n      <td>Illumination Works LLC</td>\n      <td>Cincinnati, OH</td>\n      <td>51 to 200 Employees</td>\n      <td>2006</td>\n      <td>Contract</td>\n      <td>Information Technology Support Services</td>\n      <td>Information Technology</td>\n      <td>Unknown / Non-Applicable</td>\n    </tr>\n  </tbody>\n</table>\n<p>594 rows × 11 columns</p>\n</div>"
     },
     "execution_count": 29,
     "metadata": {},
     "output_type": "execute_result"
    }
   ],
   "source": [
    "df.dropna(inplace=True)\n",
    "df"
   ],
   "metadata": {
    "collapsed": false,
    "ExecuteTime": {
     "end_time": "2024-02-07T13:04:45.531733300Z",
     "start_time": "2024-02-07T13:04:45.493332500Z"
    }
   },
   "id": "f566483153a1f2a8",
   "execution_count": 29
  },
  {
   "cell_type": "markdown",
   "source": [],
   "metadata": {
    "collapsed": false
   },
   "id": "f588a8f09b185697"
  },
  {
   "cell_type": "markdown",
   "source": [
    "Salary parsing"
   ],
   "metadata": {
    "collapsed": false
   },
   "id": "67335d6c97880e6e"
  },
  {
   "cell_type": "code",
   "outputs": [
    {
     "data": {
      "text/plain": "0            81-133\n2             44-74\n3             33-83\n4           120-139\n5      40.00PerHour\n           ...     \n749         111-147\n750          79-119\n751         126-140\n752           63-96\n753          66-105\nName: Salary Estimate, Length: 594, dtype: object"
     },
     "execution_count": 31,
     "metadata": {},
     "output_type": "execute_result"
    }
   ],
   "source": [
    "salary_minus_Kd = df['Salary Estimate'].apply(lambda x: x.replace('USD ', '').replace('K', ''))\n",
    "salary = salary_minus_Kd.apply(lambda x: x.replace(' ', ''))\n",
    "salary"
   ],
   "metadata": {
    "collapsed": false,
    "ExecuteTime": {
     "end_time": "2024-02-07T13:17:12.902483400Z",
     "start_time": "2024-02-07T13:17:12.877412500Z"
    }
   },
   "id": "d773733b26e5b1c1",
   "execution_count": 31
  },
  {
   "cell_type": "code",
   "outputs": [],
   "source": [
    "# Convert hourly salary to early = hourly * 35 * 4 * 12 /100_000\n",
    "df['min_salary'] = salary.apply(lambda x: int(x.split('-')[0]) if 'PerHour' not in x else int(x.replace('PerHour', '').replace('.', '').split('-')[0]) * 35 * 4 * 12 / 100_000).astype('int')"
   ],
   "metadata": {
    "collapsed": false,
    "ExecuteTime": {
     "end_time": "2024-02-07T13:53:28.232236900Z",
     "start_time": "2024-02-07T13:53:28.186264400Z"
    }
   },
   "id": "655f7a92e5b7944d",
   "execution_count": 58
  },
  {
   "cell_type": "code",
   "outputs": [],
   "source": [
    "df['max_salary'] = salary.apply(lambda x: int(x.split('-')[1 if len(x.split('-')) == 2 else 0]) if 'PerHour' not in x else int(x.replace('PerHour', '').replace('.', '').split('-')[1 if len(x.replace('PerHour', '').replace('.', '').split('-')) == 2 else 0]) * 35 * 4 * 12 / 10_0000).astype('int')"
   ],
   "metadata": {
    "collapsed": false,
    "ExecuteTime": {
     "end_time": "2024-02-07T13:57:49.381081600Z",
     "start_time": "2024-02-07T13:57:49.360545900Z"
    }
   },
   "id": "34ce0b13657195e",
   "execution_count": 62
  },
  {
   "cell_type": "code",
   "outputs": [
    {
     "data": {
      "text/plain": "                                             Job Title       Salary Estimate  \\\n0               Consultant, Data Science and Analytics    USD 81K - USD 133K   \n2    Data Annotation - Safety tasks / Content Moder...    USD 44K - USD 74K    \n3    Solaria Labs Data Science Co-op (July - Decemb...     USD 33K - USD 83K   \n4                   Data Scientist (Multiple Openings)   USD 120K - USD 139K   \n5     CAMPUS: I&A Data Science Summer Associate (2024)    USD 40.00 Per Hour   \n..                                                 ...                   ...   \n749                                Senior Data Analyst  USD 111K - USD 147K    \n750  2024 Summer Associate SumRidge Data Engineer I...   USD 79K - USD 119K    \n751                                     Data Scientist   USD 126K - USD 140K   \n752                                       Data Analyst    USD 63K - USD 96K    \n753                           Mid-Level Data Scientist   USD 66K - USD 105K    \n\n     Rating                   Company Name              Location  \\\n0       3.8                     TransUnion          New York, NY   \n2       4.5                         Cohere         Nashville, TN   \n3       3.7                 Liberty Mutual                Remote   \n4       4.2              Johnson & Johnson           Raritan, NJ   \n5       4.2        Capital Group Companies       Los Angeles, CA   \n..      ...                            ...                   ...   \n749     5.0                     Hypersonix          San Jose, CA   \n750     4.1  Raymond James Financial, Inc.       Jersey City, NJ   \n751     4.1                      Fabletics        El Segundo, CA   \n752     3.5            Westfield Insurance  Westfield Center, OH   \n753     3.6         Illumination Works LLC        Cincinnati, OH   \n\n                        Size Founded  Type of ownership  \\\n0           10000+ Employees    1968   Company - Public   \n2          1 to 50 Employees      --  Company - Private   \n3           10000+ Employees    1912  Company - Private   \n4           10000+ Employees    1887   Company - Public   \n5    5001 to 10000 Employees    1931  Company - Private   \n..                       ...     ...                ...   \n749        1 to 50 Employees    2019  Company - Private   \n750         10000+ Employees    1962   Company - Public   \n751                  Unknown    2013  Company - Private   \n752   1001 to 5000 Employees    1848  Company - Private   \n753      51 to 200 Employees    2006           Contract   \n\n                                    Industry                          Sector  \\\n0                        Business Consulting         Management & Consulting   \n2             Advertising & Public Relations           Media & Communication   \n3                         Insurance Carriers                       Insurance   \n4                  Biotech & Pharmaceuticals  Pharmaceutical & Biotechnology   \n5              Investment & Asset Management              Financial Services   \n..                                       ...                             ...   \n749                      Aerospace & Defense             Aerospace & Defense   \n750            Investment & Asset Management              Financial Services   \n751                  Internet & Web Services          Information Technology   \n752                       Insurance Carriers                       Insurance   \n753  Information Technology Support Services          Information Technology   \n\n                      Revenue  Hourly Salary  min_salary  max_salary  \\\n0      $1 to $5 billion (USD)              0          81         133   \n2    Unknown / Non-Applicable              0          44          74   \n3          $10+ billion (USD)              0          33          83   \n4          $10+ billion (USD)              0         120         139   \n5      $1 to $5 billion (USD)              1          67          67   \n..                        ...            ...         ...         ...   \n749  Unknown / Non-Applicable              0         111         147   \n750   $5 to $10 billion (USD)              0          79         119   \n751  Unknown / Non-Applicable              0         126         140   \n752  Unknown / Non-Applicable              0          63          96   \n753  Unknown / Non-Applicable              0          66         105   \n\n     Average Salary  \n0             107.0  \n2              59.0  \n3              58.0  \n4             129.5  \n5              67.0  \n..              ...  \n749           129.0  \n750            99.0  \n751           133.0  \n752            79.5  \n753            85.5  \n\n[594 rows x 15 columns]",
      "text/html": "<div>\n<style scoped>\n    .dataframe tbody tr th:only-of-type {\n        vertical-align: middle;\n    }\n\n    .dataframe tbody tr th {\n        vertical-align: top;\n    }\n\n    .dataframe thead th {\n        text-align: right;\n    }\n</style>\n<table border=\"1\" class=\"dataframe\">\n  <thead>\n    <tr style=\"text-align: right;\">\n      <th></th>\n      <th>Job Title</th>\n      <th>Salary Estimate</th>\n      <th>Rating</th>\n      <th>Company Name</th>\n      <th>Location</th>\n      <th>Size</th>\n      <th>Founded</th>\n      <th>Type of ownership</th>\n      <th>Industry</th>\n      <th>Sector</th>\n      <th>Revenue</th>\n      <th>Hourly Salary</th>\n      <th>min_salary</th>\n      <th>max_salary</th>\n      <th>Average Salary</th>\n    </tr>\n  </thead>\n  <tbody>\n    <tr>\n      <th>0</th>\n      <td>Consultant, Data Science and Analytics</td>\n      <td>USD 81K - USD 133K</td>\n      <td>3.8</td>\n      <td>TransUnion</td>\n      <td>New York, NY</td>\n      <td>10000+ Employees</td>\n      <td>1968</td>\n      <td>Company - Public</td>\n      <td>Business Consulting</td>\n      <td>Management &amp; Consulting</td>\n      <td>$1 to $5 billion (USD)</td>\n      <td>0</td>\n      <td>81</td>\n      <td>133</td>\n      <td>107.0</td>\n    </tr>\n    <tr>\n      <th>2</th>\n      <td>Data Annotation - Safety tasks / Content Moder...</td>\n      <td>USD 44K - USD 74K</td>\n      <td>4.5</td>\n      <td>Cohere</td>\n      <td>Nashville, TN</td>\n      <td>1 to 50 Employees</td>\n      <td>--</td>\n      <td>Company - Private</td>\n      <td>Advertising &amp; Public Relations</td>\n      <td>Media &amp; Communication</td>\n      <td>Unknown / Non-Applicable</td>\n      <td>0</td>\n      <td>44</td>\n      <td>74</td>\n      <td>59.0</td>\n    </tr>\n    <tr>\n      <th>3</th>\n      <td>Solaria Labs Data Science Co-op (July - Decemb...</td>\n      <td>USD 33K - USD 83K</td>\n      <td>3.7</td>\n      <td>Liberty Mutual</td>\n      <td>Remote</td>\n      <td>10000+ Employees</td>\n      <td>1912</td>\n      <td>Company - Private</td>\n      <td>Insurance Carriers</td>\n      <td>Insurance</td>\n      <td>$10+ billion (USD)</td>\n      <td>0</td>\n      <td>33</td>\n      <td>83</td>\n      <td>58.0</td>\n    </tr>\n    <tr>\n      <th>4</th>\n      <td>Data Scientist (Multiple Openings)</td>\n      <td>USD 120K - USD 139K</td>\n      <td>4.2</td>\n      <td>Johnson &amp; Johnson</td>\n      <td>Raritan, NJ</td>\n      <td>10000+ Employees</td>\n      <td>1887</td>\n      <td>Company - Public</td>\n      <td>Biotech &amp; Pharmaceuticals</td>\n      <td>Pharmaceutical &amp; Biotechnology</td>\n      <td>$10+ billion (USD)</td>\n      <td>0</td>\n      <td>120</td>\n      <td>139</td>\n      <td>129.5</td>\n    </tr>\n    <tr>\n      <th>5</th>\n      <td>CAMPUS: I&amp;A Data Science Summer Associate (2024)</td>\n      <td>USD 40.00 Per Hour</td>\n      <td>4.2</td>\n      <td>Capital Group Companies</td>\n      <td>Los Angeles, CA</td>\n      <td>5001 to 10000 Employees</td>\n      <td>1931</td>\n      <td>Company - Private</td>\n      <td>Investment &amp; Asset Management</td>\n      <td>Financial Services</td>\n      <td>$1 to $5 billion (USD)</td>\n      <td>1</td>\n      <td>67</td>\n      <td>67</td>\n      <td>67.0</td>\n    </tr>\n    <tr>\n      <th>...</th>\n      <td>...</td>\n      <td>...</td>\n      <td>...</td>\n      <td>...</td>\n      <td>...</td>\n      <td>...</td>\n      <td>...</td>\n      <td>...</td>\n      <td>...</td>\n      <td>...</td>\n      <td>...</td>\n      <td>...</td>\n      <td>...</td>\n      <td>...</td>\n      <td>...</td>\n    </tr>\n    <tr>\n      <th>749</th>\n      <td>Senior Data Analyst</td>\n      <td>USD 111K - USD 147K</td>\n      <td>5.0</td>\n      <td>Hypersonix</td>\n      <td>San Jose, CA</td>\n      <td>1 to 50 Employees</td>\n      <td>2019</td>\n      <td>Company - Private</td>\n      <td>Aerospace &amp; Defense</td>\n      <td>Aerospace &amp; Defense</td>\n      <td>Unknown / Non-Applicable</td>\n      <td>0</td>\n      <td>111</td>\n      <td>147</td>\n      <td>129.0</td>\n    </tr>\n    <tr>\n      <th>750</th>\n      <td>2024 Summer Associate SumRidge Data Engineer I...</td>\n      <td>USD 79K - USD 119K</td>\n      <td>4.1</td>\n      <td>Raymond James Financial, Inc.</td>\n      <td>Jersey City, NJ</td>\n      <td>10000+ Employees</td>\n      <td>1962</td>\n      <td>Company - Public</td>\n      <td>Investment &amp; Asset Management</td>\n      <td>Financial Services</td>\n      <td>$5 to $10 billion (USD)</td>\n      <td>0</td>\n      <td>79</td>\n      <td>119</td>\n      <td>99.0</td>\n    </tr>\n    <tr>\n      <th>751</th>\n      <td>Data Scientist</td>\n      <td>USD 126K - USD 140K</td>\n      <td>4.1</td>\n      <td>Fabletics</td>\n      <td>El Segundo, CA</td>\n      <td>Unknown</td>\n      <td>2013</td>\n      <td>Company - Private</td>\n      <td>Internet &amp; Web Services</td>\n      <td>Information Technology</td>\n      <td>Unknown / Non-Applicable</td>\n      <td>0</td>\n      <td>126</td>\n      <td>140</td>\n      <td>133.0</td>\n    </tr>\n    <tr>\n      <th>752</th>\n      <td>Data Analyst</td>\n      <td>USD 63K - USD 96K</td>\n      <td>3.5</td>\n      <td>Westfield Insurance</td>\n      <td>Westfield Center, OH</td>\n      <td>1001 to 5000 Employees</td>\n      <td>1848</td>\n      <td>Company - Private</td>\n      <td>Insurance Carriers</td>\n      <td>Insurance</td>\n      <td>Unknown / Non-Applicable</td>\n      <td>0</td>\n      <td>63</td>\n      <td>96</td>\n      <td>79.5</td>\n    </tr>\n    <tr>\n      <th>753</th>\n      <td>Mid-Level Data Scientist</td>\n      <td>USD 66K - USD 105K</td>\n      <td>3.6</td>\n      <td>Illumination Works LLC</td>\n      <td>Cincinnati, OH</td>\n      <td>51 to 200 Employees</td>\n      <td>2006</td>\n      <td>Contract</td>\n      <td>Information Technology Support Services</td>\n      <td>Information Technology</td>\n      <td>Unknown / Non-Applicable</td>\n      <td>0</td>\n      <td>66</td>\n      <td>105</td>\n      <td>85.5</td>\n    </tr>\n  </tbody>\n</table>\n<p>594 rows × 15 columns</p>\n</div>"
     },
     "execution_count": 63,
     "metadata": {},
     "output_type": "execute_result"
    }
   ],
   "source": [
    "df['Average Salary'] = (df.min_salary + df.max_salary) / 2\n",
    "df"
   ],
   "metadata": {
    "collapsed": false,
    "ExecuteTime": {
     "end_time": "2024-02-07T13:57:51.760533900Z",
     "start_time": "2024-02-07T13:57:51.719371900Z"
    }
   },
   "id": "3be0efa85da84e02",
   "execution_count": 63
  },
  {
   "cell_type": "markdown",
   "source": [
    "State field"
   ],
   "metadata": {
    "collapsed": false
   },
   "id": "b8e13a2efa5cad43"
  },
  {
   "cell_type": "code",
   "outputs": [
    {
     "data": {
      "text/plain": "                                             Job Title       Salary Estimate  \\\n0               Consultant, Data Science and Analytics    USD 81K - USD 133K   \n2    Data Annotation - Safety tasks / Content Moder...    USD 44K - USD 74K    \n3    Solaria Labs Data Science Co-op (July - Decemb...     USD 33K - USD 83K   \n4                   Data Scientist (Multiple Openings)   USD 120K - USD 139K   \n5     CAMPUS: I&A Data Science Summer Associate (2024)    USD 40.00 Per Hour   \n..                                                 ...                   ...   \n749                                Senior Data Analyst  USD 111K - USD 147K    \n750  2024 Summer Associate SumRidge Data Engineer I...   USD 79K - USD 119K    \n751                                     Data Scientist   USD 126K - USD 140K   \n752                                       Data Analyst    USD 63K - USD 96K    \n753                           Mid-Level Data Scientist   USD 66K - USD 105K    \n\n     Rating                   Company Name              Location  \\\n0       3.8                     TransUnion          New York, NY   \n2       4.5                         Cohere         Nashville, TN   \n3       3.7                 Liberty Mutual                Remote   \n4       4.2              Johnson & Johnson           Raritan, NJ   \n5       4.2        Capital Group Companies       Los Angeles, CA   \n..      ...                            ...                   ...   \n749     5.0                     Hypersonix          San Jose, CA   \n750     4.1  Raymond James Financial, Inc.       Jersey City, NJ   \n751     4.1                      Fabletics        El Segundo, CA   \n752     3.5            Westfield Insurance  Westfield Center, OH   \n753     3.6         Illumination Works LLC        Cincinnati, OH   \n\n                        Size Founded  Type of ownership  \\\n0           10000+ Employees    1968   Company - Public   \n2          1 to 50 Employees      --  Company - Private   \n3           10000+ Employees    1912  Company - Private   \n4           10000+ Employees    1887   Company - Public   \n5    5001 to 10000 Employees    1931  Company - Private   \n..                       ...     ...                ...   \n749        1 to 50 Employees    2019  Company - Private   \n750         10000+ Employees    1962   Company - Public   \n751                  Unknown    2013  Company - Private   \n752   1001 to 5000 Employees    1848  Company - Private   \n753      51 to 200 Employees    2006           Contract   \n\n                                    Industry                          Sector  \\\n0                        Business Consulting         Management & Consulting   \n2             Advertising & Public Relations           Media & Communication   \n3                         Insurance Carriers                       Insurance   \n4                  Biotech & Pharmaceuticals  Pharmaceutical & Biotechnology   \n5              Investment & Asset Management              Financial Services   \n..                                       ...                             ...   \n749                      Aerospace & Defense             Aerospace & Defense   \n750            Investment & Asset Management              Financial Services   \n751                  Internet & Web Services          Information Technology   \n752                       Insurance Carriers                       Insurance   \n753  Information Technology Support Services          Information Technology   \n\n                      Revenue  Hourly Salary  min_salary  max_salary  \\\n0      $1 to $5 billion (USD)              0          81         133   \n2    Unknown / Non-Applicable              0          44          74   \n3          $10+ billion (USD)              0          33          83   \n4          $10+ billion (USD)              0         120         139   \n5      $1 to $5 billion (USD)              1          67          67   \n..                        ...            ...         ...         ...   \n749  Unknown / Non-Applicable              0         111         147   \n750   $5 to $10 billion (USD)              0          79         119   \n751  Unknown / Non-Applicable              0         126         140   \n752  Unknown / Non-Applicable              0          63          96   \n753  Unknown / Non-Applicable              0          66         105   \n\n     Average Salary Job state  \n0             107.0        NY  \n2              59.0        TN  \n3              58.0    Remote  \n4             129.5        NJ  \n5              67.0        CA  \n..              ...       ...  \n749           129.0        CA  \n750            99.0        NJ  \n751           133.0        CA  \n752            79.5        OH  \n753            85.5        OH  \n\n[594 rows x 16 columns]",
      "text/html": "<div>\n<style scoped>\n    .dataframe tbody tr th:only-of-type {\n        vertical-align: middle;\n    }\n\n    .dataframe tbody tr th {\n        vertical-align: top;\n    }\n\n    .dataframe thead th {\n        text-align: right;\n    }\n</style>\n<table border=\"1\" class=\"dataframe\">\n  <thead>\n    <tr style=\"text-align: right;\">\n      <th></th>\n      <th>Job Title</th>\n      <th>Salary Estimate</th>\n      <th>Rating</th>\n      <th>Company Name</th>\n      <th>Location</th>\n      <th>Size</th>\n      <th>Founded</th>\n      <th>Type of ownership</th>\n      <th>Industry</th>\n      <th>Sector</th>\n      <th>Revenue</th>\n      <th>Hourly Salary</th>\n      <th>min_salary</th>\n      <th>max_salary</th>\n      <th>Average Salary</th>\n      <th>Job state</th>\n    </tr>\n  </thead>\n  <tbody>\n    <tr>\n      <th>0</th>\n      <td>Consultant, Data Science and Analytics</td>\n      <td>USD 81K - USD 133K</td>\n      <td>3.8</td>\n      <td>TransUnion</td>\n      <td>New York, NY</td>\n      <td>10000+ Employees</td>\n      <td>1968</td>\n      <td>Company - Public</td>\n      <td>Business Consulting</td>\n      <td>Management &amp; Consulting</td>\n      <td>$1 to $5 billion (USD)</td>\n      <td>0</td>\n      <td>81</td>\n      <td>133</td>\n      <td>107.0</td>\n      <td>NY</td>\n    </tr>\n    <tr>\n      <th>2</th>\n      <td>Data Annotation - Safety tasks / Content Moder...</td>\n      <td>USD 44K - USD 74K</td>\n      <td>4.5</td>\n      <td>Cohere</td>\n      <td>Nashville, TN</td>\n      <td>1 to 50 Employees</td>\n      <td>--</td>\n      <td>Company - Private</td>\n      <td>Advertising &amp; Public Relations</td>\n      <td>Media &amp; Communication</td>\n      <td>Unknown / Non-Applicable</td>\n      <td>0</td>\n      <td>44</td>\n      <td>74</td>\n      <td>59.0</td>\n      <td>TN</td>\n    </tr>\n    <tr>\n      <th>3</th>\n      <td>Solaria Labs Data Science Co-op (July - Decemb...</td>\n      <td>USD 33K - USD 83K</td>\n      <td>3.7</td>\n      <td>Liberty Mutual</td>\n      <td>Remote</td>\n      <td>10000+ Employees</td>\n      <td>1912</td>\n      <td>Company - Private</td>\n      <td>Insurance Carriers</td>\n      <td>Insurance</td>\n      <td>$10+ billion (USD)</td>\n      <td>0</td>\n      <td>33</td>\n      <td>83</td>\n      <td>58.0</td>\n      <td>Remote</td>\n    </tr>\n    <tr>\n      <th>4</th>\n      <td>Data Scientist (Multiple Openings)</td>\n      <td>USD 120K - USD 139K</td>\n      <td>4.2</td>\n      <td>Johnson &amp; Johnson</td>\n      <td>Raritan, NJ</td>\n      <td>10000+ Employees</td>\n      <td>1887</td>\n      <td>Company - Public</td>\n      <td>Biotech &amp; Pharmaceuticals</td>\n      <td>Pharmaceutical &amp; Biotechnology</td>\n      <td>$10+ billion (USD)</td>\n      <td>0</td>\n      <td>120</td>\n      <td>139</td>\n      <td>129.5</td>\n      <td>NJ</td>\n    </tr>\n    <tr>\n      <th>5</th>\n      <td>CAMPUS: I&amp;A Data Science Summer Associate (2024)</td>\n      <td>USD 40.00 Per Hour</td>\n      <td>4.2</td>\n      <td>Capital Group Companies</td>\n      <td>Los Angeles, CA</td>\n      <td>5001 to 10000 Employees</td>\n      <td>1931</td>\n      <td>Company - Private</td>\n      <td>Investment &amp; Asset Management</td>\n      <td>Financial Services</td>\n      <td>$1 to $5 billion (USD)</td>\n      <td>1</td>\n      <td>67</td>\n      <td>67</td>\n      <td>67.0</td>\n      <td>CA</td>\n    </tr>\n    <tr>\n      <th>...</th>\n      <td>...</td>\n      <td>...</td>\n      <td>...</td>\n      <td>...</td>\n      <td>...</td>\n      <td>...</td>\n      <td>...</td>\n      <td>...</td>\n      <td>...</td>\n      <td>...</td>\n      <td>...</td>\n      <td>...</td>\n      <td>...</td>\n      <td>...</td>\n      <td>...</td>\n      <td>...</td>\n    </tr>\n    <tr>\n      <th>749</th>\n      <td>Senior Data Analyst</td>\n      <td>USD 111K - USD 147K</td>\n      <td>5.0</td>\n      <td>Hypersonix</td>\n      <td>San Jose, CA</td>\n      <td>1 to 50 Employees</td>\n      <td>2019</td>\n      <td>Company - Private</td>\n      <td>Aerospace &amp; Defense</td>\n      <td>Aerospace &amp; Defense</td>\n      <td>Unknown / Non-Applicable</td>\n      <td>0</td>\n      <td>111</td>\n      <td>147</td>\n      <td>129.0</td>\n      <td>CA</td>\n    </tr>\n    <tr>\n      <th>750</th>\n      <td>2024 Summer Associate SumRidge Data Engineer I...</td>\n      <td>USD 79K - USD 119K</td>\n      <td>4.1</td>\n      <td>Raymond James Financial, Inc.</td>\n      <td>Jersey City, NJ</td>\n      <td>10000+ Employees</td>\n      <td>1962</td>\n      <td>Company - Public</td>\n      <td>Investment &amp; Asset Management</td>\n      <td>Financial Services</td>\n      <td>$5 to $10 billion (USD)</td>\n      <td>0</td>\n      <td>79</td>\n      <td>119</td>\n      <td>99.0</td>\n      <td>NJ</td>\n    </tr>\n    <tr>\n      <th>751</th>\n      <td>Data Scientist</td>\n      <td>USD 126K - USD 140K</td>\n      <td>4.1</td>\n      <td>Fabletics</td>\n      <td>El Segundo, CA</td>\n      <td>Unknown</td>\n      <td>2013</td>\n      <td>Company - Private</td>\n      <td>Internet &amp; Web Services</td>\n      <td>Information Technology</td>\n      <td>Unknown / Non-Applicable</td>\n      <td>0</td>\n      <td>126</td>\n      <td>140</td>\n      <td>133.0</td>\n      <td>CA</td>\n    </tr>\n    <tr>\n      <th>752</th>\n      <td>Data Analyst</td>\n      <td>USD 63K - USD 96K</td>\n      <td>3.5</td>\n      <td>Westfield Insurance</td>\n      <td>Westfield Center, OH</td>\n      <td>1001 to 5000 Employees</td>\n      <td>1848</td>\n      <td>Company - Private</td>\n      <td>Insurance Carriers</td>\n      <td>Insurance</td>\n      <td>Unknown / Non-Applicable</td>\n      <td>0</td>\n      <td>63</td>\n      <td>96</td>\n      <td>79.5</td>\n      <td>OH</td>\n    </tr>\n    <tr>\n      <th>753</th>\n      <td>Mid-Level Data Scientist</td>\n      <td>USD 66K - USD 105K</td>\n      <td>3.6</td>\n      <td>Illumination Works LLC</td>\n      <td>Cincinnati, OH</td>\n      <td>51 to 200 Employees</td>\n      <td>2006</td>\n      <td>Contract</td>\n      <td>Information Technology Support Services</td>\n      <td>Information Technology</td>\n      <td>Unknown / Non-Applicable</td>\n      <td>0</td>\n      <td>66</td>\n      <td>105</td>\n      <td>85.5</td>\n      <td>OH</td>\n    </tr>\n  </tbody>\n</table>\n<p>594 rows × 16 columns</p>\n</div>"
     },
     "execution_count": 68,
     "metadata": {},
     "output_type": "execute_result"
    }
   ],
   "source": [
    "df['Job state'] = df['Location'].apply(lambda x: x[-2:].upper() if 'Remote' not in x else x)\n",
    "df"
   ],
   "metadata": {
    "collapsed": false,
    "ExecuteTime": {
     "end_time": "2024-02-07T14:15:44.285930600Z",
     "start_time": "2024-02-07T14:15:44.252987600Z"
    }
   },
   "id": "5c451e7a02756a48",
   "execution_count": 68
  },
  {
   "cell_type": "code",
   "outputs": [
    {
     "data": {
      "text/plain": "Job state\nCA        136\nRemote     47\nNY         42\nMA         38\nTX         35\nWA         26\nES         25\nVA         22\nIL         22\nGA         19\nOH         18\nFL         14\nNJ         14\nMD         14\nPA         12\nMN         10\nMO         10\nDC         10\nIA          8\nMI          8\nAZ          7\nNC          7\nTN          5\nCO          5\nOR          5\nWI          4\nID          4\nCT          4\nAN          3\nSC          2\nUT          2\nNV          2\nNE          2\nAS          1\nIN          1\nNS          1\nON          1\nNH          1\nAL          1\nDO          1\nRI          1\nDE          1\nKS          1\nAR          1\nNA          1\nName: count, dtype: int64"
     },
     "execution_count": 75,
     "metadata": {},
     "output_type": "execute_result"
    }
   ],
   "source": [
    "df['Job state'].value_counts()"
   ],
   "metadata": {
    "collapsed": false,
    "ExecuteTime": {
     "end_time": "2024-02-07T14:24:32.805293400Z",
     "start_time": "2024-02-07T14:24:32.774421200Z"
    }
   },
   "id": "6e713d733d4d8938",
   "execution_count": 75
  },
  {
   "cell_type": "markdown",
   "source": [
    "Age of company"
   ],
   "metadata": {
    "collapsed": false
   },
   "id": "bff63030a64406"
  },
  {
   "cell_type": "code",
   "outputs": [
    {
     "data": {
      "text/plain": "                                             Job Title       Salary Estimate  \\\n0               Consultant, Data Science and Analytics    USD 81K - USD 133K   \n2    Data Annotation - Safety tasks / Content Moder...    USD 44K - USD 74K    \n3    Solaria Labs Data Science Co-op (July - Decemb...     USD 33K - USD 83K   \n4                   Data Scientist (Multiple Openings)   USD 120K - USD 139K   \n5     CAMPUS: I&A Data Science Summer Associate (2024)    USD 40.00 Per Hour   \n..                                                 ...                   ...   \n749                                Senior Data Analyst  USD 111K - USD 147K    \n750  2024 Summer Associate SumRidge Data Engineer I...   USD 79K - USD 119K    \n751                                     Data Scientist   USD 126K - USD 140K   \n752                                       Data Analyst    USD 63K - USD 96K    \n753                           Mid-Level Data Scientist   USD 66K - USD 105K    \n\n     Rating                   Company Name              Location  \\\n0       3.8                     TransUnion          New York, NY   \n2       4.5                         Cohere         Nashville, TN   \n3       3.7                 Liberty Mutual                Remote   \n4       4.2              Johnson & Johnson           Raritan, NJ   \n5       4.2        Capital Group Companies       Los Angeles, CA   \n..      ...                            ...                   ...   \n749     5.0                     Hypersonix          San Jose, CA   \n750     4.1  Raymond James Financial, Inc.       Jersey City, NJ   \n751     4.1                      Fabletics        El Segundo, CA   \n752     3.5            Westfield Insurance  Westfield Center, OH   \n753     3.6         Illumination Works LLC        Cincinnati, OH   \n\n                        Size Founded  Type of ownership  \\\n0           10000+ Employees    1968   Company - Public   \n2          1 to 50 Employees      --  Company - Private   \n3           10000+ Employees    1912  Company - Private   \n4           10000+ Employees    1887   Company - Public   \n5    5001 to 10000 Employees    1931  Company - Private   \n..                       ...     ...                ...   \n749        1 to 50 Employees    2019  Company - Private   \n750         10000+ Employees    1962   Company - Public   \n751                  Unknown    2013  Company - Private   \n752   1001 to 5000 Employees    1848  Company - Private   \n753      51 to 200 Employees    2006           Contract   \n\n                                    Industry                          Sector  \\\n0                        Business Consulting         Management & Consulting   \n2             Advertising & Public Relations           Media & Communication   \n3                         Insurance Carriers                       Insurance   \n4                  Biotech & Pharmaceuticals  Pharmaceutical & Biotechnology   \n5              Investment & Asset Management              Financial Services   \n..                                       ...                             ...   \n749                      Aerospace & Defense             Aerospace & Defense   \n750            Investment & Asset Management              Financial Services   \n751                  Internet & Web Services          Information Technology   \n752                       Insurance Carriers                       Insurance   \n753  Information Technology Support Services          Information Technology   \n\n                      Revenue  Hourly Salary  min_salary  max_salary  \\\n0      $1 to $5 billion (USD)              0          81         133   \n2    Unknown / Non-Applicable              0          44          74   \n3          $10+ billion (USD)              0          33          83   \n4          $10+ billion (USD)              0         120         139   \n5      $1 to $5 billion (USD)              1          67          67   \n..                        ...            ...         ...         ...   \n749  Unknown / Non-Applicable              0         111         147   \n750   $5 to $10 billion (USD)              0          79         119   \n751  Unknown / Non-Applicable              0         126         140   \n752  Unknown / Non-Applicable              0          63          96   \n753  Unknown / Non-Applicable              0          66         105   \n\n     Average Salary Job state  Company_age  \n0             107.0        NY         56.0  \n2              59.0        TN          NaN  \n3              58.0    Remote        112.0  \n4             129.5        NJ        137.0  \n5              67.0        CA         93.0  \n..              ...       ...          ...  \n749           129.0        CA          5.0  \n750            99.0        NJ         62.0  \n751           133.0        CA         11.0  \n752            79.5        OH        176.0  \n753            85.5        OH         18.0  \n\n[594 rows x 17 columns]",
      "text/html": "<div>\n<style scoped>\n    .dataframe tbody tr th:only-of-type {\n        vertical-align: middle;\n    }\n\n    .dataframe tbody tr th {\n        vertical-align: top;\n    }\n\n    .dataframe thead th {\n        text-align: right;\n    }\n</style>\n<table border=\"1\" class=\"dataframe\">\n  <thead>\n    <tr style=\"text-align: right;\">\n      <th></th>\n      <th>Job Title</th>\n      <th>Salary Estimate</th>\n      <th>Rating</th>\n      <th>Company Name</th>\n      <th>Location</th>\n      <th>Size</th>\n      <th>Founded</th>\n      <th>Type of ownership</th>\n      <th>Industry</th>\n      <th>Sector</th>\n      <th>Revenue</th>\n      <th>Hourly Salary</th>\n      <th>min_salary</th>\n      <th>max_salary</th>\n      <th>Average Salary</th>\n      <th>Job state</th>\n      <th>Company_age</th>\n    </tr>\n  </thead>\n  <tbody>\n    <tr>\n      <th>0</th>\n      <td>Consultant, Data Science and Analytics</td>\n      <td>USD 81K - USD 133K</td>\n      <td>3.8</td>\n      <td>TransUnion</td>\n      <td>New York, NY</td>\n      <td>10000+ Employees</td>\n      <td>1968</td>\n      <td>Company - Public</td>\n      <td>Business Consulting</td>\n      <td>Management &amp; Consulting</td>\n      <td>$1 to $5 billion (USD)</td>\n      <td>0</td>\n      <td>81</td>\n      <td>133</td>\n      <td>107.0</td>\n      <td>NY</td>\n      <td>56.0</td>\n    </tr>\n    <tr>\n      <th>2</th>\n      <td>Data Annotation - Safety tasks / Content Moder...</td>\n      <td>USD 44K - USD 74K</td>\n      <td>4.5</td>\n      <td>Cohere</td>\n      <td>Nashville, TN</td>\n      <td>1 to 50 Employees</td>\n      <td>--</td>\n      <td>Company - Private</td>\n      <td>Advertising &amp; Public Relations</td>\n      <td>Media &amp; Communication</td>\n      <td>Unknown / Non-Applicable</td>\n      <td>0</td>\n      <td>44</td>\n      <td>74</td>\n      <td>59.0</td>\n      <td>TN</td>\n      <td>NaN</td>\n    </tr>\n    <tr>\n      <th>3</th>\n      <td>Solaria Labs Data Science Co-op (July - Decemb...</td>\n      <td>USD 33K - USD 83K</td>\n      <td>3.7</td>\n      <td>Liberty Mutual</td>\n      <td>Remote</td>\n      <td>10000+ Employees</td>\n      <td>1912</td>\n      <td>Company - Private</td>\n      <td>Insurance Carriers</td>\n      <td>Insurance</td>\n      <td>$10+ billion (USD)</td>\n      <td>0</td>\n      <td>33</td>\n      <td>83</td>\n      <td>58.0</td>\n      <td>Remote</td>\n      <td>112.0</td>\n    </tr>\n    <tr>\n      <th>4</th>\n      <td>Data Scientist (Multiple Openings)</td>\n      <td>USD 120K - USD 139K</td>\n      <td>4.2</td>\n      <td>Johnson &amp; Johnson</td>\n      <td>Raritan, NJ</td>\n      <td>10000+ Employees</td>\n      <td>1887</td>\n      <td>Company - Public</td>\n      <td>Biotech &amp; Pharmaceuticals</td>\n      <td>Pharmaceutical &amp; Biotechnology</td>\n      <td>$10+ billion (USD)</td>\n      <td>0</td>\n      <td>120</td>\n      <td>139</td>\n      <td>129.5</td>\n      <td>NJ</td>\n      <td>137.0</td>\n    </tr>\n    <tr>\n      <th>5</th>\n      <td>CAMPUS: I&amp;A Data Science Summer Associate (2024)</td>\n      <td>USD 40.00 Per Hour</td>\n      <td>4.2</td>\n      <td>Capital Group Companies</td>\n      <td>Los Angeles, CA</td>\n      <td>5001 to 10000 Employees</td>\n      <td>1931</td>\n      <td>Company - Private</td>\n      <td>Investment &amp; Asset Management</td>\n      <td>Financial Services</td>\n      <td>$1 to $5 billion (USD)</td>\n      <td>1</td>\n      <td>67</td>\n      <td>67</td>\n      <td>67.0</td>\n      <td>CA</td>\n      <td>93.0</td>\n    </tr>\n    <tr>\n      <th>...</th>\n      <td>...</td>\n      <td>...</td>\n      <td>...</td>\n      <td>...</td>\n      <td>...</td>\n      <td>...</td>\n      <td>...</td>\n      <td>...</td>\n      <td>...</td>\n      <td>...</td>\n      <td>...</td>\n      <td>...</td>\n      <td>...</td>\n      <td>...</td>\n      <td>...</td>\n      <td>...</td>\n      <td>...</td>\n    </tr>\n    <tr>\n      <th>749</th>\n      <td>Senior Data Analyst</td>\n      <td>USD 111K - USD 147K</td>\n      <td>5.0</td>\n      <td>Hypersonix</td>\n      <td>San Jose, CA</td>\n      <td>1 to 50 Employees</td>\n      <td>2019</td>\n      <td>Company - Private</td>\n      <td>Aerospace &amp; Defense</td>\n      <td>Aerospace &amp; Defense</td>\n      <td>Unknown / Non-Applicable</td>\n      <td>0</td>\n      <td>111</td>\n      <td>147</td>\n      <td>129.0</td>\n      <td>CA</td>\n      <td>5.0</td>\n    </tr>\n    <tr>\n      <th>750</th>\n      <td>2024 Summer Associate SumRidge Data Engineer I...</td>\n      <td>USD 79K - USD 119K</td>\n      <td>4.1</td>\n      <td>Raymond James Financial, Inc.</td>\n      <td>Jersey City, NJ</td>\n      <td>10000+ Employees</td>\n      <td>1962</td>\n      <td>Company - Public</td>\n      <td>Investment &amp; Asset Management</td>\n      <td>Financial Services</td>\n      <td>$5 to $10 billion (USD)</td>\n      <td>0</td>\n      <td>79</td>\n      <td>119</td>\n      <td>99.0</td>\n      <td>NJ</td>\n      <td>62.0</td>\n    </tr>\n    <tr>\n      <th>751</th>\n      <td>Data Scientist</td>\n      <td>USD 126K - USD 140K</td>\n      <td>4.1</td>\n      <td>Fabletics</td>\n      <td>El Segundo, CA</td>\n      <td>Unknown</td>\n      <td>2013</td>\n      <td>Company - Private</td>\n      <td>Internet &amp; Web Services</td>\n      <td>Information Technology</td>\n      <td>Unknown / Non-Applicable</td>\n      <td>0</td>\n      <td>126</td>\n      <td>140</td>\n      <td>133.0</td>\n      <td>CA</td>\n      <td>11.0</td>\n    </tr>\n    <tr>\n      <th>752</th>\n      <td>Data Analyst</td>\n      <td>USD 63K - USD 96K</td>\n      <td>3.5</td>\n      <td>Westfield Insurance</td>\n      <td>Westfield Center, OH</td>\n      <td>1001 to 5000 Employees</td>\n      <td>1848</td>\n      <td>Company - Private</td>\n      <td>Insurance Carriers</td>\n      <td>Insurance</td>\n      <td>Unknown / Non-Applicable</td>\n      <td>0</td>\n      <td>63</td>\n      <td>96</td>\n      <td>79.5</td>\n      <td>OH</td>\n      <td>176.0</td>\n    </tr>\n    <tr>\n      <th>753</th>\n      <td>Mid-Level Data Scientist</td>\n      <td>USD 66K - USD 105K</td>\n      <td>3.6</td>\n      <td>Illumination Works LLC</td>\n      <td>Cincinnati, OH</td>\n      <td>51 to 200 Employees</td>\n      <td>2006</td>\n      <td>Contract</td>\n      <td>Information Technology Support Services</td>\n      <td>Information Technology</td>\n      <td>Unknown / Non-Applicable</td>\n      <td>0</td>\n      <td>66</td>\n      <td>105</td>\n      <td>85.5</td>\n      <td>OH</td>\n      <td>18.0</td>\n    </tr>\n  </tbody>\n</table>\n<p>594 rows × 17 columns</p>\n</div>"
     },
     "execution_count": 78,
     "metadata": {},
     "output_type": "execute_result"
    }
   ],
   "source": [
    "df['Company_age'] = df.Founded.apply(lambda x: 2024 - int(x) if x != '--' else None)\n",
    "df"
   ],
   "metadata": {
    "collapsed": false,
    "ExecuteTime": {
     "end_time": "2024-02-07T14:34:19.731372400Z",
     "start_time": "2024-02-07T14:34:19.702713300Z"
    }
   },
   "id": "beb213f58f13059f",
   "execution_count": 78
  },
  {
   "cell_type": "code",
   "outputs": [],
   "source": [
    "df.to_csv('salary_data_cleaned.csv', index=False)"
   ],
   "metadata": {
    "collapsed": false,
    "ExecuteTime": {
     "end_time": "2024-02-07T14:50:06.970918800Z",
     "start_time": "2024-02-07T14:50:06.944781800Z"
    }
   },
   "id": "a251c1998fdbfcd3",
   "execution_count": 92
  },
  {
   "cell_type": "code",
   "outputs": [],
   "source": [],
   "metadata": {
    "collapsed": false
   },
   "id": "8773c271f3c44285"
  }
 ],
 "metadata": {
  "kernelspec": {
   "display_name": "Python 3",
   "language": "python",
   "name": "python3"
  },
  "language_info": {
   "codemirror_mode": {
    "name": "ipython",
    "version": 2
   },
   "file_extension": ".py",
   "mimetype": "text/x-python",
   "name": "python",
   "nbconvert_exporter": "python",
   "pygments_lexer": "ipython2",
   "version": "2.7.6"
  }
 },
 "nbformat": 4,
 "nbformat_minor": 5
}
